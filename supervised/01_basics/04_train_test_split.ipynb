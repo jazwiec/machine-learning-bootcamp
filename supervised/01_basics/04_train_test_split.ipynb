{
  "nbformat": 4,
  "nbformat_minor": 0,
  "metadata": {
    "colab": {
      "name": "04_train_test_split.ipynb",
      "provenance": [],
      "collapsed_sections": [],
      "authorship_tag": "ABX9TyPhjYm/7ieNS4ox6ca3lqrj",
      "include_colab_link": true
    },
    "kernelspec": {
      "name": "python3",
      "display_name": "Python 3"
    }
  },
  "cells": [
    {
      "cell_type": "markdown",
      "metadata": {
        "id": "view-in-github",
        "colab_type": "text"
      },
      "source": [
        "<a href=\"https://colab.research.google.com/github/jazwiec/machine-learning-bootcamp/blob/master/supervised/01_basics/04_train_test_split.ipynb\" target=\"_parent\"><img src=\"https://colab.research.google.com/assets/colab-badge.svg\" alt=\"Open In Colab\"/></a>"
      ]
    },
    {
      "cell_type": "code",
      "metadata": {
        "id": "EoB-evEHhm9l",
        "colab_type": "code",
        "colab": {}
      },
      "source": [
        "print('test 3')"
      ],
      "execution_count": 0,
      "outputs": []
    }
  ]
}